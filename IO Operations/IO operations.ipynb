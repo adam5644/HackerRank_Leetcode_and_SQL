{
 "cells": [
  {
   "cell_type": "markdown",
   "id": "7dd8e9ba",
   "metadata": {},
   "source": [
    "- input(): This function reads a line from input, usually from the standard input such as the keyboard or from the input provided by online coding platforms during a contest. It reads the data as a string and stops at a newline character.\n",
    "- readlines(): This is a method of file objects that reads all the lines of a file as a list where each line is an item in the list. You can also use this method on any object that has a read() method, like sys.stdin for standard input."
   ]
  },
  {
   "cell_type": "code",
   "execution_count": 1,
   "id": "4ac8cba5",
   "metadata": {},
   "outputs": [
    {
     "name": "stdout",
     "output_type": "stream",
     "text": [
      "enter something:1\n"
     ]
    }
   ],
   "source": [
    "# input() to read a single line from keyboard\n",
    "single_line = input('enter something:')"
   ]
  },
  {
   "cell_type": "code",
   "execution_count": null,
   "id": "10983d9a",
   "metadata": {},
   "outputs": [],
   "source": [
    "# readlines() to read all lines from standard input stdin until an EOF (end of file) condition\n",
    "import sys\n",
    "all_lines = sys.stdin.readlines()\n",
    "\n",
    "# readlines() to read all lines from a file\n",
    "with open('file.txt','r') as file:\n",
    "    file_lines = file.readlines()"
   ]
  },
  {
   "cell_type": "markdown",
   "id": "ef069985",
   "metadata": {},
   "source": [
    "# 3 standard streams of computer programs to manage input and output data\n",
    "- stdin (standard input): default input stream to keyboard\n",
    "- stdout (standard output)\n",
    "- stderr (standard error)"
   ]
  },
  {
   "cell_type": "code",
   "execution_count": 3,
   "id": "a7b725c3",
   "metadata": {},
   "outputs": [],
   "source": [
    "# stdin\n",
    "import sys\n",
    "for line in sys.stdin:\n",
    "    print(line)"
   ]
  },
  {
   "cell_type": "code",
   "execution_count": null,
   "id": "3c348268",
   "metadata": {},
   "outputs": [],
   "source": []
  }
 ],
 "metadata": {
  "kernelspec": {
   "display_name": "Python 3 (ipykernel)",
   "language": "python",
   "name": "python3"
  },
  "language_info": {
   "codemirror_mode": {
    "name": "ipython",
    "version": 3
   },
   "file_extension": ".py",
   "mimetype": "text/x-python",
   "name": "python",
   "nbconvert_exporter": "python",
   "pygments_lexer": "ipython3",
   "version": "3.11.5"
  }
 },
 "nbformat": 4,
 "nbformat_minor": 5
}
