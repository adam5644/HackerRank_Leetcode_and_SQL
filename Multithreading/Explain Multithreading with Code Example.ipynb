{
 "cells": [
  {
   "cell_type": "markdown",
   "id": "bdeeb911",
   "metadata": {},
   "source": [
    "- Multithreading is where multiple threads happens simultanously, each thread doing a single task while sharing the same resources (e.g. memory, ability to read and write a file)"
   ]
  },
  {
   "cell_type": "markdown",
   "id": "dbbec391",
   "metadata": {},
   "source": [
    "- In this example, 2 threads (thread1 and thread2) are created. Each thread to print the number 1 to 5 with a delay.\n",
    "- start() is used to begin each thread\n",
    "- join() ensures the main program is exited only when all threads are completed"
   ]
  },
  {
   "cell_type": "code",
   "execution_count": 3,
   "id": "3db90bd4",
   "metadata": {},
   "outputs": [
    {
     "name": "stdout",
     "output_type": "stream",
     "text": [
      "Thread-1:1\n",
      "Thread-2:1\n",
      "Thread-1:2\n",
      "Thread-1:3\n",
      "Thread-2:2\n",
      "Thread-1:4\n",
      "Thread-1:5\n",
      "Thread-2:3\n",
      "Thread-2:4\n",
      "Thread-2:5\n",
      "exiting the program\n"
     ]
    }
   ],
   "source": [
    "import threading\n",
    "import time\n",
    "\n",
    "# a thread's target function\n",
    "def print_numbers(thread_name, delay):\n",
    "    count = 0\n",
    "    while count < 5:\n",
    "        time.sleep(delay)\n",
    "        count += 1\n",
    "        print(f\"{thread_name}:{count}\")\n",
    "thread1 = threading.Thread(target=print_numbers, args=(\"Thread-1\",1))\n",
    "thread2 = threading.Thread(target=print_numbers, args=(\"Thread-2\",2))\n",
    "                           \n",
    "thread1.start()\n",
    "thread2.start()\n",
    "\n",
    "thread1.join()\n",
    "thread2.join()\n",
    "                        \n",
    "print(\"exiting the program\")"
   ]
  }
 ],
 "metadata": {
  "kernelspec": {
   "display_name": "Python 3 (ipykernel)",
   "language": "python",
   "name": "python3"
  },
  "language_info": {
   "codemirror_mode": {
    "name": "ipython",
    "version": 3
   },
   "file_extension": ".py",
   "mimetype": "text/x-python",
   "name": "python",
   "nbconvert_exporter": "python",
   "pygments_lexer": "ipython3",
   "version": "3.11.5"
  }
 },
 "nbformat": 4,
 "nbformat_minor": 5
}
