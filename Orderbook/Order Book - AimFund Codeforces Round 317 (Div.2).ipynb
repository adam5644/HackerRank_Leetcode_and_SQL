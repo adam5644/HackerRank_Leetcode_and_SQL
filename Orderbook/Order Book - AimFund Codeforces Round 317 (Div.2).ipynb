{
 "cells": [
  {
   "cell_type": "code",
   "execution_count": 5,
   "id": "260143ec",
   "metadata": {},
   "outputs": [],
   "source": [
    "# inputs = []\n",
    "\n",
    "# n,s  = map(int, input().strip().split())\n",
    "\n",
    "# for _ in n:\n",
    "#     inputs.append(input().strip().split())\n",
    "\n",
    "ss = 2\n",
    "    \n",
    "inputs = [\n",
    "            ['B', '10', '3'],\n",
    "            ['S', '50', '2'],\n",
    "            ['S', '40', '1'],\n",
    "            ['S', '50', '6'],\n",
    "            ['B', '20', '4'],\n",
    "            ['B', '25', '10']\n",
    "        ]"
   ]
  },
  {
   "cell_type": "code",
   "execution_count": 10,
   "id": "2b49070a",
   "metadata": {},
   "outputs": [
    {
     "name": "stdout",
     "output_type": "stream",
     "text": [
      "S 50 8\n",
      "S 40 1\n",
      "B 25 10\n",
      "B 20 4\n"
     ]
    }
   ],
   "source": [
    "b = {}\n",
    "s = {}\n",
    "\n",
    "for d, p, q in inputs:\n",
    "    p = int(p)\n",
    "    q = int(q)\n",
    "    if d == 'B':\n",
    "        if p not in b:\n",
    "            b[p] = q\n",
    "        else:\n",
    "            b[p] += q\n",
    "    else:\n",
    "        if p not in s:\n",
    "            s[p] = q\n",
    "        else:\n",
    "            s[p] += q\n",
    "        \n",
    "b_price = sorted(b.keys(),reverse=True)\n",
    "s_price = sorted(s.keys(),reverse=True)\n",
    "\n",
    "for i in range(ss):\n",
    "    if i < len(s_price):\n",
    "        p = s_price[i]\n",
    "        print('S',p,s[p])\n",
    "    else:\n",
    "        break\n",
    "\n",
    "for i in range(ss):\n",
    "    if i < len(b_price):\n",
    "        p = b_price[i]\n",
    "        print('B',p,b[p])\n",
    "    else:\n",
    "        break"
   ]
  },
  {
   "cell_type": "code",
   "execution_count": null,
   "id": "af16709f",
   "metadata": {},
   "outputs": [],
   "source": []
  }
 ],
 "metadata": {
  "kernelspec": {
   "display_name": "Python 3 (ipykernel)",
   "language": "python",
   "name": "python3"
  },
  "language_info": {
   "codemirror_mode": {
    "name": "ipython",
    "version": 3
   },
   "file_extension": ".py",
   "mimetype": "text/x-python",
   "name": "python",
   "nbconvert_exporter": "python",
   "pygments_lexer": "ipython3",
   "version": "3.11.5"
  }
 },
 "nbformat": 4,
 "nbformat_minor": 5
}
