{
 "cells": [
  {
   "cell_type": "markdown",
   "id": "2964303e",
   "metadata": {},
   "source": [
    "# What is a tree?\n",
    "- data structure\n",
    "- hierarchical structure\n",
    "- each element is a node, topmost node is a root, bottom-most is a leaf\n",
    "- parent, child node\n",
    "- nodes with same parents are called siblings\n",
    "\n",
    "# Purpose?\n",
    "- organise data in a hierachy\n",
    "- for quick search, insert and delete operation\n",
    "\n",
    "# What is a binary tree?\n",
    "- special type of tree, with at most 2 children (i.e. left child and right child\n",
    "- binary search tree (bst): \n",
    "    - left child < node < right child\n",
    "    \n",
    "# Other types of tree\n",
    "- balanced tree:\n",
    "    - height diff between left and right subtrees for every node is not more than 1, ensuring o(log n) time complexity for various operations\n",
    "- min-heap:\n",
    "    - every parent node <= children\n",
    "    - for priority queue"
   ]
  },
  {
   "cell_type": "markdown",
   "id": "abc0def7",
   "metadata": {},
   "source": [
    "# Example of min-heap"
   ]
  },
  {
   "cell_type": "code",
   "execution_count": 3,
   "id": "452f9302",
   "metadata": {},
   "outputs": [],
   "source": [
    "import heapq \n",
    "\n",
    "a = [2,1,5,12,2]\n",
    "heapq.heapify(a)"
   ]
  },
  {
   "cell_type": "code",
   "execution_count": 5,
   "id": "b8cfb592",
   "metadata": {},
   "outputs": [
    {
     "data": {
      "text/plain": [
       "[1, 2, 5, 12, 2]"
      ]
     },
     "execution_count": 5,
     "metadata": {},
     "output_type": "execute_result"
    }
   ],
   "source": [
    "a"
   ]
  },
  {
   "cell_type": "code",
   "execution_count": 7,
   "id": "97df8a8f",
   "metadata": {},
   "outputs": [],
   "source": [
    "heapq.heappush(a,3)"
   ]
  },
  {
   "cell_type": "code",
   "execution_count": 8,
   "id": "a0eee629",
   "metadata": {},
   "outputs": [
    {
     "data": {
      "text/plain": [
       "[1, 2, 3, 12, 2, 5]"
      ]
     },
     "execution_count": 8,
     "metadata": {},
     "output_type": "execute_result"
    }
   ],
   "source": [
    "a"
   ]
  },
  {
   "cell_type": "code",
   "execution_count": 10,
   "id": "3753334f",
   "metadata": {},
   "outputs": [
    {
     "data": {
      "text/plain": [
       "1"
      ]
     },
     "execution_count": 10,
     "metadata": {},
     "output_type": "execute_result"
    }
   ],
   "source": [
    "heapq.heappop(a)"
   ]
  },
  {
   "cell_type": "code",
   "execution_count": 11,
   "id": "b0b9e4fd",
   "metadata": {},
   "outputs": [
    {
     "data": {
      "text/plain": [
       "[2, 2, 3, 12, 5]"
      ]
     },
     "execution_count": 11,
     "metadata": {},
     "output_type": "execute_result"
    }
   ],
   "source": [
    "a"
   ]
  }
 ],
 "metadata": {
  "kernelspec": {
   "display_name": "Python 3 (ipykernel)",
   "language": "python",
   "name": "python3"
  },
  "language_info": {
   "codemirror_mode": {
    "name": "ipython",
    "version": 3
   },
   "file_extension": ".py",
   "mimetype": "text/x-python",
   "name": "python",
   "nbconvert_exporter": "python",
   "pygments_lexer": "ipython3",
   "version": "3.11.5"
  }
 },
 "nbformat": 4,
 "nbformat_minor": 5
}
